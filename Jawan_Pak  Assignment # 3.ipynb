{
 "cells": [
  {
   "cell_type": "code",
   "execution_count": 26,
   "id": "3027cfa8",
   "metadata": {},
   "outputs": [
    {
     "name": "stdout",
     "output_type": "stream",
     "text": [
      "\n",
      "           Twinkle, twinkle, little star,\n",
      "                    How I wonder what you are!\n",
      "                           Up above the world so high,\n",
      "                           Like a diamond in the sky.\n",
      "           Twinkle, twinkle, little star,\n",
      "                    How I wonder what you are\n",
      "                                               \n"
     ]
    }
   ],
   "source": [
    "# 1 Write a python program to print the following string in a specific format ( see the output ).\n",
    "\n",
    "print('''\n",
    "           Twinkle, twinkle, little star,\n",
    "                    How I wonder what you are!\n",
    "                           Up above the world so high,\n",
    "                           Like a diamond in the sky.\n",
    "           Twinkle, twinkle, little star,\n",
    "                    How I wonder what you are\n",
    "                                               ''');"
   ]
  },
  {
   "cell_type": "code",
   "execution_count": 16,
   "id": "3afedb67",
   "metadata": {},
   "outputs": [
    {
     "name": "stdout",
     "output_type": "stream",
     "text": [
      "Python Version\n",
      "3.8.8 (default, Apr 13 2021, 15:08:03) [MSC v.1916 64 bit (AMD64)]\n",
      "Python Info\n",
      "sys.version_info(major=3, minor=8, micro=8, releaselevel='final', serial=0)\n"
     ]
    }
   ],
   "source": [
    "# 2 Write a python program to get the version you are using.\n",
    "# Import a module called \"sys\".\n",
    "\n",
    "import sys\n",
    "print(\"Python Version\");\n",
    "print( sys.version );\n",
    "print(\"Python Info\");\n",
    "print( sys.version_info );\n"
   ]
  },
  {
   "cell_type": "code",
   "execution_count": 2,
   "id": "a7b1e442",
   "metadata": {},
   "outputs": [
    {
     "name": "stdout",
     "output_type": "stream",
     "text": [
      " Current Date And Time : \n",
      " 24-10-21 \n",
      " 10:35:09 \n"
     ]
    }
   ],
   "source": [
    "# 3 Write a python program to display the current date and time.\n",
    "# Import a module called \"datetime\".\n",
    "\n",
    "import datetime\n",
    "now = datetime.datetime.now();\n",
    "print(\" Current Date And Time : \");\n",
    "print(now.strftime(\" %d-%m-%y \\n %H:%M:%S \"));\n",
    "\n"
   ]
  },
  {
   "cell_type": "code",
   "execution_count": 33,
   "id": "68afe221",
   "metadata": {},
   "outputs": [
    {
     "name": "stdout",
     "output_type": "stream",
     "text": [
      " Enter the Radius of a circle  4.5\n",
      " Area of a circle is  63.585\n"
     ]
    }
   ],
   "source": [
    "# 4 Write a python program which accepts the radius of a circle from the user and compute the area.\n",
    "\n",
    "Radius_r = float(input(\" Enter the Radius of a circle \"));\n",
    "Area_a = 3.14 * Radius_r **2;\n",
    "print(\" Area of a circle is \", Area_a);\n"
   ]
  },
  {
   "cell_type": "code",
   "execution_count": 27,
   "id": "195bb094",
   "metadata": {},
   "outputs": [
    {
     "name": "stdout",
     "output_type": "stream",
     "text": [
      " Enter the first name :   Ali\n",
      " Enter the last name :   Kumail\n",
      "  Kumail   Ali\n"
     ]
    }
   ],
   "source": [
    "# 5 Write a python program which accepts the user's first and last name and print them in reverse order with a space b/w them.\n",
    "\n",
    "First_name = input(\" Enter the first name : \");\n",
    "Last_name  = input(\" Enter the last name : \");\n",
    "print( Last_name + \" \" + First_name );\n"
   ]
  },
  {
   "cell_type": "code",
   "execution_count": 28,
   "id": "ca73026a",
   "metadata": {},
   "outputs": [
    {
     "name": "stdout",
     "output_type": "stream",
     "text": [
      " Enter the first number   56\n",
      " Enter the second number   75\n",
      " The sum of first and second number is  131\n"
     ]
    }
   ],
   "source": [
    "# 6 Write a python program which takes two inputs from user and print them addition.\n",
    "\n",
    "number_1 = int(input(\" Enter the first number \"));\n",
    "number_2 = int(input(\" Enter the second number \"));\n",
    "sum = number_1 + number_2;\n",
    "print(\" The sum of first and second number is \", sum );\n",
    "\n",
    "\n"
   ]
  },
  {
   "cell_type": "code",
   "execution_count": 23,
   "id": "3bfc202a",
   "metadata": {},
   "outputs": [
    {
     "name": "stdout",
     "output_type": "stream",
     "text": [
      " Following are the marks obtained from different subjects: \n",
      " Enter the Math marks:  64\n",
      " Enter the Chemistry marks:  75\n",
      " Enter the Physics marks:  94\n",
      " Enter the English marks:  81\n",
      " Urdu marks:  43\n",
      " Got  71.39999999999999  % \n",
      " Grade B \n"
     ]
    }
   ],
   "source": [
    "# 7 Write a program which takes 5 inputs from user for different subject's marks, total it & generate mark sheet using grades?\n",
    "\n",
    "print(\" Following are the marks obtained from different subjects: \")\n",
    "A_one = int(input(\" Enter the Math marks:\" ));\n",
    "B_one = int(input(\" Enter the Chemistry marks:\" ));\n",
    "C_one = int(input(\" Enter the Physics marks:\" ));\n",
    "D_one = int(input(\" Enter the English marks:\" ));\n",
    "E_one = int(input(\" Urdu marks:\" ));\n",
    "total_one = 500;\n",
    "perc = ( A_one + B_one + C_one + D_one + E_one ) / total_one * 100;\n",
    "print(\" Got \",perc,\" % \");\n",
    "if perc < 100 and perc > 90:\n",
    "    print(\" Grade A+ \");\n",
    "elif perc < 89.9 and perc > 80:\n",
    "    print(\" Grade A \");\n",
    "elif perc < 79.9 and perc > 70:\n",
    "    print(\" Grade B \");\n",
    "elif perc < 69.9 and perc > 60:\n",
    "    print(\" Grade C \");\n",
    "elif perc < 59.9 and perc > 50:\n",
    "    print(\" Grade D \");\n",
    "elif perc < 49.9 and perc > 40:\n",
    "    print(\" Grade E \");\n",
    "else:\n",
    "    print(\" Fail \");\n",
    "\n",
    "\n"
   ]
  },
  {
   "cell_type": "code",
   "execution_count": 25,
   "id": "2c230330",
   "metadata": {},
   "outputs": [
    {
     "name": "stdout",
     "output_type": "stream",
     "text": [
      " Enter a number   75\n",
      " Odd number \n"
     ]
    }
   ],
   "source": [
    "# 8 Write a program which take input from the user and identify that the given number is even or odd?\n",
    "\n",
    "Number_I = int(input(\" Enter a number \"));\n",
    "Remainder_I = Number_I % 2;\n",
    "if Remainder_I == 0:\n",
    "    print(\" Even number \");\n",
    "else:\n",
    "    print(\" Odd number \");\n"
   ]
  },
  {
   "cell_type": "code",
   "execution_count": 10,
   "id": "b85dd1a9",
   "metadata": {},
   "outputs": [
    {
     "name": "stdout",
     "output_type": "stream",
     "text": [
      " The length of a list is :  14\n"
     ]
    }
   ],
   "source": [
    "# 9 Write a program which prints the length of a list.\n",
    "# It can be done with strings and numbers both. \n",
    "\n",
    "Mix_1 = [\" Rizwan \", \" Fakhar \", \" Babar \", \" Sohaib \", 45, 46, 85, 2, 67, 86, 367, 758, 38, 45 ];\n",
    "print(\" The length of a list is : \", len(Mix_1));\n",
    "\n",
    "\n"
   ]
  },
  {
   "cell_type": "code",
   "execution_count": 19,
   "id": "0a13ead1",
   "metadata": {},
   "outputs": [
    {
     "name": "stdout",
     "output_type": "stream",
     "text": [
      " The sum is  (278.4+7j)\n"
     ]
    }
   ],
   "source": [
    "# 10 Write a python program to sum all the numeric items in a list.\n",
    "\n",
    "list_10 = [ 45, 72, 12.4, 2, 86, 3+4j, 5+3j, 53 ];\n",
    "total_10 = sum(list_10);\n",
    "print(\" The sum is \", total_10);\n",
    "\n",
    "\n",
    "\n"
   ]
  },
  {
   "cell_type": "code",
   "execution_count": 1,
   "id": "51c67e63",
   "metadata": {},
   "outputs": [
    {
     "name": "stdout",
     "output_type": "stream",
     "text": [
      "[10, 20, 23, 23, 63, 75, 86, 137]\n",
      " The largest number is :  137\n"
     ]
    }
   ],
   "source": [
    "# 11 Write a python program to get the largest number from a numeric list.\n",
    "# Sort Method\n",
    "\n",
    "l_i_s_t = [23, 75, 10, 23, 86, 63, 20, 137];\n",
    "l_i_s_t.sort();\n",
    "print(l_i_s_t);\n",
    "print(\" The largest number is : \", l_i_s_t[-1] );\n",
    "\n",
    "\n"
   ]
  },
  {
   "cell_type": "code",
   "execution_count": 5,
   "id": "be86346c",
   "metadata": {},
   "outputs": [
    {
     "name": "stdout",
     "output_type": "stream",
     "text": [
      " The largest number is :  764\n"
     ]
    }
   ],
   "source": [
    "# 11 Write a python program to get the largest number from a numeric list.\n",
    "# Max ... Method \n",
    "\n",
    "l_i_s_t = [23, 75, 10, 764, 86, 63, 20, 137];\n",
    "print(\" The largest number is : \", max(l_i_s_t));\n"
   ]
  },
  {
   "cell_type": "code",
   "execution_count": 10,
   "id": "30f64909",
   "metadata": {},
   "outputs": [
    {
     "name": "stdout",
     "output_type": "stream",
     "text": [
      "1\n",
      "4\n",
      "3\n"
     ]
    }
   ],
   "source": [
    "# 12 Write a program that prints out all the elements of the list which are less than 5.\n",
    "\n",
    "play_a = [53, 75, 1, 534, 7, 64, 82, 4, 3, 45];\n",
    "for i in play_a:\n",
    "    if i < 5:\n",
    "        print(i);"
   ]
  },
  {
   "cell_type": "code",
   "execution_count": 1,
   "id": "16f2e329",
   "metadata": {},
   "outputs": [
    {
     "name": "stdout",
     "output_type": "stream",
     "text": [
      "[2, 2, 3]\n"
     ]
    }
   ],
   "source": [
    "# 12 Write a program that prints out all the elements of the list which are less than 5.\n",
    "\n",
    "x = [234, 56, 6, 2, 5, 2, 45, 53, 3, 5, 78];\n",
    "y = [];\n",
    "for i in x:\n",
    "    if i < 5:\n",
    "        y.append(i);\n",
    "print(y);\n"
   ]
  }
 ],
 "metadata": {
  "kernelspec": {
   "display_name": "Python 3",
   "language": "python",
   "name": "python3"
  },
  "language_info": {
   "codemirror_mode": {
    "name": "ipython",
    "version": 3
   },
   "file_extension": ".py",
   "mimetype": "text/x-python",
   "name": "python",
   "nbconvert_exporter": "python",
   "pygments_lexer": "ipython3",
   "version": "3.8.8"
  }
 },
 "nbformat": 4,
 "nbformat_minor": 5
}
