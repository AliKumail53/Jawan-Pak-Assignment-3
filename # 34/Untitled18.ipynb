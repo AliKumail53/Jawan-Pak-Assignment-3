{
 "cells": [
  {
   "cell_type": "code",
   "execution_count": 1,
   "id": "d248f01e",
   "metadata": {},
   "outputs": [
    {
     "name": "stdout",
     "output_type": "stream",
     "text": [
      " Python Version \n",
      "3.8.8 (default, Apr 13 2021, 15:08:03) [MSC v.1916 64 bit (AMD64)]\n",
      "Python Info\n",
      "sys.version_info(major=3, minor=8, micro=8, releaselevel='final', serial=0)\n"
     ]
    }
   ],
   "source": [
    "import sys\n",
    "print(\" Python Version \");\n",
    "print( sys.version );\n",
    "print(\"Python Info\");\n",
    "print( sys.version_info);"
   ]
  },
  {
   "cell_type": "code",
   "execution_count": 2,
   "id": "7bb7b235",
   "metadata": {},
   "outputs": [
    {
     "name": "stdout",
     "output_type": "stream",
     "text": [
      " Python Version \n",
      "3.8.8 (default, Apr 13 2021, 15:08:03) [MSC v.1916 64 bit (AMD64)]\n",
      " Python Info\n",
      "sys.version_info(major=3, minor=8, micro=8, releaselevel='final', serial=0)\n"
     ]
    }
   ],
   "source": [
    "import sys\n",
    "print(\" Python Version \");\n",
    "print( sys.version);\n",
    "print(\" Python Info\");\n",
    "print( sys.version_info);"
   ]
  },
  {
   "cell_type": "code",
   "execution_count": 4,
   "id": "21cd0ed4",
   "metadata": {},
   "outputs": [
    {
     "name": "stdout",
     "output_type": "stream",
     "text": [
      " Current Date & Time \n",
      " 24-10-21 \n",
      " 08:34:02 \n"
     ]
    }
   ],
   "source": [
    "import datetime\n",
    "x = datetime.datetime.now();\n",
    "print(\" Current Date & Time \");\n",
    "print(x.strftime( \" %d-%m-%y \\n %H:%M:%S \"));"
   ]
  },
  {
   "cell_type": "code",
   "execution_count": 5,
   "id": "bfe2b90c",
   "metadata": {},
   "outputs": [
    {
     "name": "stdout",
     "output_type": "stream",
     "text": [
      "\n",
      "           Twinkle, twinkle, little star,\n",
      "                    How I wonder what you are!\n",
      "                           Up above the world so high,\n",
      "                           Like a diamond in the sky.\n",
      "           Twinkle, twinkle, little star,\n",
      "                    How I wonder what you are\n",
      "                                               \n"
     ]
    }
   ],
   "source": [
    "print('''\n",
    "           Twinkle, twinkle, little star,\n",
    "                    How I wonder what you are!\n",
    "                           Up above the world so high,\n",
    "                           Like a diamond in the sky.\n",
    "           Twinkle, twinkle, little star,\n",
    "                    How I wonder what you are\n",
    "                                               ''');"
   ]
  },
  {
   "cell_type": "code",
   "execution_count": 8,
   "id": "8267a5d4",
   "metadata": {},
   "outputs": [
    {
     "name": "stdout",
     "output_type": "stream",
     "text": [
      " The Current Date & Time \n",
      " 24-10-21 | 08:37:33 \n"
     ]
    }
   ],
   "source": [
    "import datetime\n",
    "var_1 = datetime.datetime.now();\n",
    "print(\" The Current Date & Time \");\n",
    "print(var_1.strftime( \" %d-%m-%y | %H:%M:%S \"));"
   ]
  },
  {
   "cell_type": "code",
   "execution_count": 12,
   "id": "9626b6f6",
   "metadata": {},
   "outputs": [
    {
     "name": "stdout",
     "output_type": "stream",
     "text": [
      " Python Version \n",
      "3.8.8 (default, Apr 13 2021, 15:08:03) [MSC v.1916 64 bit (AMD64)]\n",
      " Python Info \n",
      "sys.version_info(major=3, minor=8, micro=8, releaselevel='final', serial=0)\n"
     ]
    }
   ],
   "source": [
    "import sys\n",
    "print( \" Python Version \" );\n",
    "print( sys.version );\n",
    "print( \" Python Info \" );\n",
    "print( sys.version_info );"
   ]
  },
  {
   "cell_type": "code",
   "execution_count": 26,
   "id": "82cf4417",
   "metadata": {},
   "outputs": [
    {
     "name": "stdout",
     "output_type": "stream",
     "text": [
      "Python \n",
      "      Latest \n",
      "             Version :\n",
      "3.8.8 (default, Apr 13 2021, 15:08:03) [MSC v.1916 64 bit (AMD64)]\n",
      "Python \n",
      "      Info : \n",
      "sys.version_info(major=3, minor=8, micro=8, releaselevel='final', serial=0)\n"
     ]
    }
   ],
   "source": [
    "import sys\n",
    "print(\"Python \\n      Latest \\n             Version :\");\n",
    "print( sys.version );\n",
    "print(\"Python \\n      Info : \");\n",
    "print( sys.version_info );"
   ]
  },
  {
   "cell_type": "code",
   "execution_count": 29,
   "id": "d5d28e39",
   "metadata": {},
   "outputs": [
    {
     "name": "stdout",
     "output_type": "stream",
     "text": [
      " The Current Date & Time : \n",
      " 24-10-21  \n",
      "         08:47:59 \n"
     ]
    }
   ],
   "source": [
    "import datetime\n",
    "D_T = datetime.datetime.now();\n",
    "print(\" The Current Date & Time : \");\n",
    "print(D_T.strftime(\" %d-%m-%y  \\n         %H:%M:%S \"));"
   ]
  }
 ],
 "metadata": {
  "kernelspec": {
   "display_name": "Python 3",
   "language": "python",
   "name": "python3"
  },
  "language_info": {
   "codemirror_mode": {
    "name": "ipython",
    "version": 3
   },
   "file_extension": ".py",
   "mimetype": "text/x-python",
   "name": "python",
   "nbconvert_exporter": "python",
   "pygments_lexer": "ipython3",
   "version": "3.8.8"
  }
 },
 "nbformat": 4,
 "nbformat_minor": 5
}
